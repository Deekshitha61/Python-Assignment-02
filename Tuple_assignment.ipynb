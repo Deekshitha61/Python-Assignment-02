{
  "nbformat": 4,
  "nbformat_minor": 0,
  "metadata": {
    "colab": {
      "name": "Tuple assignment",
      "provenance": [],
      "authorship_tag": "ABX9TyPhMTiGIevu2SUXnVCM3WU8",
      "include_colab_link": true
    },
    "kernelspec": {
      "name": "python3",
      "display_name": "Python 3"
    }
  },
  "cells": [
    {
      "cell_type": "markdown",
      "metadata": {
        "id": "view-in-github",
        "colab_type": "text"
      },
      "source": [
        "<a href=\"https://colab.research.google.com/github/Deekshitha61/Python-Assignment-02/blob/master/Tuple_assignment.ipynb\" target=\"_parent\"><img src=\"https://colab.research.google.com/assets/colab-badge.svg\" alt=\"Open In Colab\"/></a>"
      ]
    },
    {
      "cell_type": "code",
      "metadata": {
        "id": "zoUTLlL9aH-H",
        "colab_type": "code",
        "colab": {
          "base_uri": "https://localhost:8080/",
          "height": 34
        },
        "outputId": "cb8bed36-2568-4e6a-f9a0-e63d20e93274"
      },
      "source": [
        " \n",
        "#create a tuple\n",
        "tuplex = tuple(\"gitam deemed university\")\n",
        "print(len(tuplex))"
      ],
      "execution_count": 2,
      "outputs": [
        {
          "output_type": "stream",
          "text": [
            "23\n"
          ],
          "name": "stdout"
        }
      ]
    },
    {
      "cell_type": "code",
      "metadata": {
        "id": "uOiBUfhhaXnC",
        "colab_type": "code",
        "colab": {
          "base_uri": "https://localhost:8080/",
          "height": 85
        },
        "outputId": "01300e2a-3e19-4cba-ed5c-ace754409fa1"
      },
      "source": [
        " \n",
        "# to slice a tuple\n",
        "my_tuple = ('u', 'v', 'w', 'x')\n",
        "print(my_tuple[1:]) \n",
        "print(my_tuple[:2]) \n",
        "print(my_tuple[1:3]) \n",
        "print(my_tuple[::2])"
      ],
      "execution_count": 4,
      "outputs": [
        {
          "output_type": "stream",
          "text": [
            "('v', 'w', 'x')\n",
            "('u', 'v')\n",
            "('v', 'w')\n",
            "('u', 'w')\n"
          ],
          "name": "stdout"
        }
      ]
    },
    {
      "cell_type": "code",
      "metadata": {
        "id": "0c5NVaqQajk6",
        "colab_type": "code",
        "colab": {
          "base_uri": "https://localhost:8080/",
          "height": 34
        },
        "outputId": "8bcf4f14-c665-46cd-c3b2-86211fabee9d"
      },
      "source": [
        " \n",
        "# convert tuple to string\n",
        "tup = ('d', 'e', 'k', 's', 'h', 'i') \n",
        "str =  ''.join(tup)\n",
        "print(str)"
      ],
      "execution_count": 6,
      "outputs": [
        {
          "output_type": "stream",
          "text": [
            "dekshi\n"
          ],
          "name": "stdout"
        }
      ]
    },
    {
      "cell_type": "code",
      "metadata": {
        "id": "ZBAzoz6iap7B",
        "colab_type": "code",
        "colab": {
          "base_uri": "https://localhost:8080/",
          "height": 85
        },
        "outputId": "5cd26530-7f3e-4a77-debf-2065443d3590"
      },
      "source": [
        " \n",
        "#to create and display letters\n",
        "import itertools      \n",
        "d ={'1':['a','b'], '2':['c','d']}\n",
        "for combo in itertools.product(*[d[k] for k in sorted(d.keys())]):\n",
        "    print(''.join(combo))"
      ],
      "execution_count": 7,
      "outputs": [
        {
          "output_type": "stream",
          "text": [
            "ac\n",
            "ad\n",
            "bc\n",
            "bd\n"
          ],
          "name": "stdout"
        }
      ]
    },
    {
      "cell_type": "code",
      "metadata": {
        "id": "9Pc1fe7mas34",
        "colab_type": "code",
        "colab": {
          "base_uri": "https://localhost:8080/",
          "height": 54
        },
        "outputId": "b6612403-4684-4a34-8787-7ae3d634f6ee"
      },
      "source": [
        " \n",
        "# create dictionary from string\n",
        "str1 = 'w3resource' \n",
        "my_dict = {}\n",
        "for letter in str1:\n",
        "    my_dict[letter] = my_dict.get(letter, 0) + 1\n",
        "print(my_dict)"
      ],
      "execution_count": 8,
      "outputs": [
        {
          "output_type": "stream",
          "text": [
            "{'w': 1, '3': 1, 'r': 2, 'e': 2, 's': 1, 'o': 1, 'u': 1, 'c': 1}\n"
          ],
          "name": "stdout"
        }
      ]
    }
  ]
}