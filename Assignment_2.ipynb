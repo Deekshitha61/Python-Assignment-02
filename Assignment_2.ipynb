{
  "nbformat": 4,
  "nbformat_minor": 0,
  "metadata": {
    "colab": {
      "name": "Assignment 2",
      "provenance": [],
      "authorship_tag": "ABX9TyMSFWL8klrEGtLI38px4Ly0",
      "include_colab_link": true
    },
    "kernelspec": {
      "name": "python3",
      "display_name": "Python 3"
    }
  },
  "cells": [
    {
      "cell_type": "markdown",
      "metadata": {
        "id": "view-in-github",
        "colab_type": "text"
      },
      "source": [
        "<a href=\"https://colab.research.google.com/github/Deekshitha61/Python-Assignment-02/blob/master/Assignment_2.ipynb\" target=\"_parent\"><img src=\"https://colab.research.google.com/assets/colab-badge.svg\" alt=\"Open In Colab\"/></a>"
      ]
    },
    {
      "cell_type": "code",
      "metadata": {
        "id": "OFIkoxCn9JQJ",
        "colab_type": "code",
        "colab": {}
      },
      "source": [
        "# try and except\n",
        "try:\n",
        "  print(x)\n",
        "except NameError:\n",
        "  print(\"Variable x is not defined\")\n",
        "except:\n",
        "  print(\"Something else went wrong\")"
      ],
      "execution_count": null,
      "outputs": []
    },
    {
      "cell_type": "code",
      "metadata": {
        "id": "U0bNeh2b9d_4",
        "colab_type": "code",
        "colab": {}
      },
      "source": [
        "#split the file\n",
        "str = \"This is a test\"\n",
        "print(str.split())"
      ],
      "execution_count": null,
      "outputs": []
    },
    {
      "cell_type": "code",
      "metadata": {
        "id": "SfPqrZeF9-v5",
        "colab_type": "code",
        "colab": {}
      },
      "source": [
        "# create and access the elements\n",
        "my_list = ['d', 'e', 'e', 'k', 's','h']\n",
        "print(my_list[0])\n",
        "print(my_list[1])\n",
        "print(my_list[2])\n",
        "print(my_list[3])\n",
        "print(my_list[4])"
      ],
      "execution_count": null,
      "outputs": []
    },
    {
      "cell_type": "code",
      "metadata": {
        "id": "DNGPrd4DKMLK",
        "colab_type": "code",
        "colab": {}
      },
      "source": [
        " \n",
        "# Python program to remove file and directory\n",
        " \n",
        "        \n",
        " \n",
        "import os   \n",
        " \n",
        "file = 'D:/Pycharm projects/GeeksforGeeks/Authors/Nikhil'\n",
        " \n",
        " \n",
        "try:  \n",
        " \n",
        "    os.remove(path)  \n",
        " \n",
        "    print(\"% s removed successfully\" % path)  \n",
        " \n",
        "except OSError as error:  \n",
        " \n",
        "    print(error)  \n",
        " \n",
        "    print(\"File  can not be removed\")"
      ],
      "execution_count": null,
      "outputs": []
    },
    {
      "cell_type": "code",
      "metadata": {
        "id": "p-DNmPuZOj3Q",
        "colab_type": "code",
        "colab": {}
      },
      "source": [
        " \n",
        "# using \"with statement\" with open() function\n",
        "with open('sample.txt', \"r\") as file_object:\n",
        "    # read file content\n",
        "    data = file_object.read()\n",
        "    # print file contents\n",
        "    print(data)\n",
        "# Check if file is closed\n",
        "if file_object.closed == False:\n",
        "    print('File is not closed')\n",
        "else:\n",
        "    print('File is closed')"
      ],
      "execution_count": null,
      "outputs": []
    }
  ]
}